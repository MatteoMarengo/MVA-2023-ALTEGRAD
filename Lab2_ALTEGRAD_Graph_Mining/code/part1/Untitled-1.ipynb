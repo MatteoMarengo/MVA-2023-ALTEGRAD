{
 "cells": [
  {
   "cell_type": "code",
   "execution_count": 2,
   "metadata": {},
   "outputs": [
    {
     "name": "stdout",
     "output_type": "stream",
     "text": [
      "Number of nodes: 9877\n",
      "Number of edges: 25998\n"
     ]
    }
   ],
   "source": [
    "\"\"\"\n",
    "Graph Mining - ALTEGRAD - Oct 2023\n",
    "\"\"\"\n",
    "\n",
    "import networkx as nx\n",
    "import matplotlib.pyplot as plt\n",
    "import numpy as np\n",
    "\n",
    "\n",
    "############## Task 1\n",
    "\n",
    "##################\n",
    "# your code here #\n",
    "##################\n",
    "\n",
    "# Load the data into an undirected graph G\n",
    "G = nx.read_edgelist('D:\\OneDrive\\Documents\\MVA-ENS-2023-2024\\S1\\LEARNING\\AlteGrad\\lab2_graph_mining\\code\\datasets\\CA-HepTh.txt', delimiter='\\t', comments='#', create_using=nx.Graph())\n",
    "\n",
    "# Compute network characteristics\n",
    "num_nodes = G.number_of_nodes()\n",
    "num_edges = G.number_of_edges()\n",
    "\n",
    "# Print the characteristics\n",
    "print(\"Number of nodes:\", num_nodes)\n",
    "print(\"Number of edges:\", num_edges)\n",
    "\n",
    "\n",
    "\n",
    "\n",
    "\n",
    "############## Task 2\n",
    "\n",
    "##################\n",
    "# your code here #\n",
    "##################\n",
    "\n",
    "\n",
    "\n",
    "############## Task 3\n",
    "# Degree\n",
    "degree_sequence = [G.degree(node) for node in G.nodes()]\n",
    "\n",
    "##################\n",
    "# your code here #\n",
    "##################\n",
    "\n",
    "\n",
    "\n",
    "############## Task 4\n",
    "\n",
    "##################\n",
    "# your code here #\n",
    "##################\n",
    "\n",
    "\n",
    "\n",
    "\n",
    "############## Task 5\n",
    "\n",
    "##################\n",
    "# your code here #\n",
    "##################\n"
   ]
  }
 ],
 "metadata": {
  "kernelspec": {
   "display_name": "Python 3",
   "language": "python",
   "name": "python3"
  },
  "language_info": {
   "codemirror_mode": {
    "name": "ipython",
    "version": 3
   },
   "file_extension": ".py",
   "mimetype": "text/x-python",
   "name": "python",
   "nbconvert_exporter": "python",
   "pygments_lexer": "ipython3",
   "version": "3.11.5"
  }
 },
 "nbformat": 4,
 "nbformat_minor": 2
}
