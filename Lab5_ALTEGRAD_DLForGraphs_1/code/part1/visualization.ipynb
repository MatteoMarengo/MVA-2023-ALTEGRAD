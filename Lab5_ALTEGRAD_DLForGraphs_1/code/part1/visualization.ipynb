{
 "cells": [
  {
   "cell_type": "code",
   "execution_count": 3,
   "metadata": {},
   "outputs": [
    {
     "name": "stdout",
     "output_type": "stream",
     "text": [
      "Number of nodes: 33226\n",
      "Number of edges: 354529\n",
      "Generating walks\n"
     ]
    },
    {
     "ename": "NameError",
     "evalue": "name 'permuted_walks' is not defined",
     "output_type": "error",
     "traceback": [
      "\u001b[1;31m---------------------------------------------------------------------------\u001b[0m",
      "\u001b[1;31mNameError\u001b[0m                                 Traceback (most recent call last)",
      "\u001b[1;32md:\\OneDrive\\Documents\\MVA-ENS-2023-2024\\S1\\LEARNING\\AlteGrad\\ALTEGRAD_lab_5_DLForGraphs_2023\\code\\part1\\visualization.ipynb Cell 1\u001b[0m line \u001b[0;36m3\n\u001b[0;32m     <a href='vscode-notebook-cell:/d%3A/OneDrive/Documents/MVA-ENS-2023-2024/S1/LEARNING/AlteGrad/ALTEGRAD_lab_5_DLForGraphs_2023/code/part1/visualization.ipynb#W0sZmlsZQ%3D%3D?line=22'>23</a>\u001b[0m walk_length \u001b[39m=\u001b[39m \u001b[39m20\u001b[39m\n\u001b[0;32m     <a href='vscode-notebook-cell:/d%3A/OneDrive/Documents/MVA-ENS-2023-2024/S1/LEARNING/AlteGrad/ALTEGRAD_lab_5_DLForGraphs_2023/code/part1/visualization.ipynb#W0sZmlsZQ%3D%3D?line=24'>25</a>\u001b[0m \u001b[39m##################\u001b[39;00m\n\u001b[0;32m     <a href='vscode-notebook-cell:/d%3A/OneDrive/Documents/MVA-ENS-2023-2024/S1/LEARNING/AlteGrad/ALTEGRAD_lab_5_DLForGraphs_2023/code/part1/visualization.ipynb#W0sZmlsZQ%3D%3D?line=25'>26</a>\u001b[0m \u001b[39m# your code here #\u001b[39;00m\n\u001b[0;32m     <a href='vscode-notebook-cell:/d%3A/OneDrive/Documents/MVA-ENS-2023-2024/S1/LEARNING/AlteGrad/ALTEGRAD_lab_5_DLForGraphs_2023/code/part1/visualization.ipynb#W0sZmlsZQ%3D%3D?line=26'>27</a>\u001b[0m \u001b[39m# use the deepwalk function defined in deepwalk.py to embed the nodes of the web graph into the 128-dimensional space\u001b[39;00m\n\u001b[0;32m     <a href='vscode-notebook-cell:/d%3A/OneDrive/Documents/MVA-ENS-2023-2024/S1/LEARNING/AlteGrad/ALTEGRAD_lab_5_DLForGraphs_2023/code/part1/visualization.ipynb#W0sZmlsZQ%3D%3D?line=27'>28</a>\u001b[0m \u001b[39m# start 10 walks from each node and perform 20 steps for each walk\u001b[39;00m\n\u001b[0;32m     <a href='vscode-notebook-cell:/d%3A/OneDrive/Documents/MVA-ENS-2023-2024/S1/LEARNING/AlteGrad/ALTEGRAD_lab_5_DLForGraphs_2023/code/part1/visualization.ipynb#W0sZmlsZQ%3D%3D?line=28'>29</a>\u001b[0m \u001b[39m# save the embeddings in the DeepWalk_embeddings variable\u001b[39;00m\n\u001b[1;32m---> <a href='vscode-notebook-cell:/d%3A/OneDrive/Documents/MVA-ENS-2023-2024/S1/LEARNING/AlteGrad/ALTEGRAD_lab_5_DLForGraphs_2023/code/part1/visualization.ipynb#W0sZmlsZQ%3D%3D?line=29'>30</a>\u001b[0m model \u001b[39m=\u001b[39m deepwalk(G, n_walks, walk_length, n_dim)\n\u001b[0;32m     <a href='vscode-notebook-cell:/d%3A/OneDrive/Documents/MVA-ENS-2023-2024/S1/LEARNING/AlteGrad/ALTEGRAD_lab_5_DLForGraphs_2023/code/part1/visualization.ipynb#W0sZmlsZQ%3D%3D?line=30'>31</a>\u001b[0m \u001b[39m##################\u001b[39;00m\n\u001b[0;32m     <a href='vscode-notebook-cell:/d%3A/OneDrive/Documents/MVA-ENS-2023-2024/S1/LEARNING/AlteGrad/ALTEGRAD_lab_5_DLForGraphs_2023/code/part1/visualization.ipynb#W0sZmlsZQ%3D%3D?line=31'>32</a>\u001b[0m \n\u001b[0;32m     <a href='vscode-notebook-cell:/d%3A/OneDrive/Documents/MVA-ENS-2023-2024/S1/LEARNING/AlteGrad/ALTEGRAD_lab_5_DLForGraphs_2023/code/part1/visualization.ipynb#W0sZmlsZQ%3D%3D?line=32'>33</a>\u001b[0m \u001b[39m############## Task 4\u001b[39;00m\n\u001b[0;32m     <a href='vscode-notebook-cell:/d%3A/OneDrive/Documents/MVA-ENS-2023-2024/S1/LEARNING/AlteGrad/ALTEGRAD_lab_5_DLForGraphs_2023/code/part1/visualization.ipynb#W0sZmlsZQ%3D%3D?line=33'>34</a>\u001b[0m \u001b[39m# Visualizes the representations of the 100 nodes that appear most frequently in the generated walks\u001b[39;00m\n\u001b[0;32m     <a href='vscode-notebook-cell:/d%3A/OneDrive/Documents/MVA-ENS-2023-2024/S1/LEARNING/AlteGrad/ALTEGRAD_lab_5_DLForGraphs_2023/code/part1/visualization.ipynb#W0sZmlsZQ%3D%3D?line=34'>35</a>\u001b[0m \u001b[39mdef\u001b[39;00m \u001b[39mvisualize\u001b[39m(model, n, dim):\n\u001b[0;32m     <a href='vscode-notebook-cell:/d%3A/OneDrive/Documents/MVA-ENS-2023-2024/S1/LEARNING/AlteGrad/ALTEGRAD_lab_5_DLForGraphs_2023/code/part1/visualization.ipynb#W0sZmlsZQ%3D%3D?line=35'>36</a>\u001b[0m     \u001b[39m# Hint: we can obtain the nodes from the model.wv.index_to_key list\u001b[39;00m\n",
      "File \u001b[1;32md:\\OneDrive\\Documents\\MVA-ENS-2023-2024\\S1\\LEARNING\\AlteGrad\\ALTEGRAD_lab_5_DLForGraphs_2023\\code\\part1\\deepwalk.py:38\u001b[0m, in \u001b[0;36mdeepwalk\u001b[1;34m(G, num_walks, walk_length, n_dim)\u001b[0m\n\u001b[0;32m     36\u001b[0m \u001b[39mdef\u001b[39;00m \u001b[39mdeepwalk\u001b[39m(G, num_walks, walk_length, n_dim):\n\u001b[0;32m     37\u001b[0m     \u001b[39mprint\u001b[39m(\u001b[39m\"\u001b[39m\u001b[39mGenerating walks\u001b[39m\u001b[39m\"\u001b[39m)\n\u001b[1;32m---> 38\u001b[0m     walks \u001b[39m=\u001b[39m generate_walks(G, num_walks, walk_length)\n\u001b[0;32m     40\u001b[0m     \u001b[39mprint\u001b[39m(\u001b[39m\"\u001b[39m\u001b[39mTraining word2vec\u001b[39m\u001b[39m\"\u001b[39m)\n\u001b[0;32m     41\u001b[0m     model \u001b[39m=\u001b[39m Word2Vec(vector_size\u001b[39m=\u001b[39mn_dim, window\u001b[39m=\u001b[39m\u001b[39m8\u001b[39m, min_count\u001b[39m=\u001b[39m\u001b[39m0\u001b[39m, sg\u001b[39m=\u001b[39m\u001b[39m1\u001b[39m, workers\u001b[39m=\u001b[39m\u001b[39m8\u001b[39m, hs\u001b[39m=\u001b[39m\u001b[39m1\u001b[39m)\n",
      "File \u001b[1;32md:\\OneDrive\\Documents\\MVA-ENS-2023-2024\\S1\\LEARNING\\AlteGrad\\ALTEGRAD_lab_5_DLForGraphs_2023\\code\\part1\\deepwalk.py:32\u001b[0m, in \u001b[0;36mgenerate_walks\u001b[1;34m(G, num_walks, walk_length)\u001b[0m\n\u001b[0;32m     26\u001b[0m walks \u001b[39m=\u001b[39m []\n\u001b[0;32m     28\u001b[0m \u001b[39m##################\u001b[39;00m\n\u001b[0;32m     29\u001b[0m \u001b[39m# your code here #\u001b[39;00m\n\u001b[0;32m     30\u001b[0m \u001b[39m##################\u001b[39;00m\n\u001b[1;32m---> 32\u001b[0m \u001b[39mreturn\u001b[39;00m permuted_walks\u001b[39m.\u001b[39mtolist()\n",
      "\u001b[1;31mNameError\u001b[0m: name 'permuted_walks' is not defined"
     ]
    }
   ],
   "source": [
    "\"\"\"\n",
    "Deep Learning on Graphs - ALTEGRAD - Nov 2023\n",
    "MARENGO Matteo\n",
    "matteo.marengo@ens-paris-saclay.fr\n",
    "\"\"\"\n",
    "\n",
    "import networkx as nx\n",
    "import numpy as np\n",
    "from deepwalk import deepwalk\n",
    "from sklearn.decomposition import PCA\n",
    "from sklearn.manifold import TSNE\n",
    "import matplotlib.pyplot as plt\n",
    "\n",
    "# Loads the web graph\n",
    "G = nx.read_weighted_edgelist('../data/web_sample.edgelist', delimiter=' ', create_using=nx.Graph())\n",
    "print(\"Number of nodes:\", G.number_of_nodes())\n",
    "print(\"Number of edges:\", G.number_of_edges())\n",
    "\n",
    "############## Task 3\n",
    "# Extracts a set of random walks from the web graph and feeds them to the Skipgram model\n",
    "n_dim = 128\n",
    "n_walks = 10\n",
    "walk_length = 20\n",
    "\n",
    "##################\n",
    "# your code here #\n",
    "# use the deepwalk function defined in deepwalk.py to embed the nodes of the web graph into the 128-dimensional space\n",
    "# start 10 walks from each node and perform 20 steps for each walk\n",
    "# save the embeddings in the DeepWalk_embeddings variable\n",
    "model = deepwalk(G, n_walks, walk_length, n_dim)\n",
    "##################\n",
    "\n",
    "############## Task 4\n",
    "# Visualizes the representations of the 100 nodes that appear most frequently in the generated walks\n",
    "def visualize(model, n, dim):\n",
    "    # Hint: we can obtain the nodes from the model.wv.index_to_key list\n",
    "    nodes = model.wv.index_to_key # your code here\n",
    "    DeepWalk_embeddings = np.empty(shape=(n, dim))\n",
    "    \n",
    "    ##################\n",
    "    # Store the representations of these 100 nodes in a 100 x 128 matrix\n",
    "    # Hint: you can obtain the embedding of a node with model.wv[node]\n",
    "    for i in range(n):\n",
    "        DeepWalk_embeddings[i] = model.wv[str(nodes[i])]\n",
    "    ##################\n",
    "\n",
    "\n",
    "    my_pca = PCA(n_components=10)\n",
    "    my_tsne = TSNE(n_components=2)\n",
    "\n",
    "    vecs_pca = my_pca.fit_transform(DeepWalk_embeddings)\n",
    "    vecs_tsne = my_tsne.fit_transform(vecs_pca)\n",
    "\n",
    "    fig, ax = plt.subplots()\n",
    "    ax.scatter(vecs_tsne[:,0], vecs_tsne[:,1],s=3)\n",
    "    for x, y, node in zip(vecs_tsne[:,0] , vecs_tsne[:,1], nodes):     \n",
    "        ax.annotate(node, xy=(x, y), size=8)\n",
    "    fig.suptitle('t-SNE visualization of node embeddings',fontsize=30)\n",
    "    fig.set_size_inches(20,15)\n",
    "    plt.savefig('embeddings.pdf')  \n",
    "    plt.show()\n",
    "\n",
    "\n",
    "visualize(model, 100, n_dim)\n"
   ]
  }
 ],
 "metadata": {
  "kernelspec": {
   "display_name": "Python 3",
   "language": "python",
   "name": "python3"
  },
  "language_info": {
   "codemirror_mode": {
    "name": "ipython",
    "version": 3
   },
   "file_extension": ".py",
   "mimetype": "text/x-python",
   "name": "python",
   "nbconvert_exporter": "python",
   "pygments_lexer": "ipython3",
   "version": "3.11.3"
  }
 },
 "nbformat": 4,
 "nbformat_minor": 2
}
