{
 "cells": [
  {
   "cell_type": "code",
   "execution_count": null,
   "metadata": {},
   "outputs": [],
   "source": [
    "\"\"\"\n",
    "Deep Learning on Graphs - ALTEGRAD - Nov 2023\n",
    "MARENGO Matteo\n",
    "matteo.marengo@ens-paris-saclay.fr\n",
    "\"\"\"\n",
    "\n",
    "import torch\n",
    "import torch.nn as nn\n",
    "import torch.nn.functional as F\n",
    "\n",
    "class GNN(nn.Module):\n",
    "    \"\"\"Simple GNN model\"\"\"\n",
    "    def __init__(self, n_feat, n_hidden_1, n_hidden_2, n_class, dropout):\n",
    "        super(GNN, self).__init__()\n",
    "\n",
    "        self.fc1 = nn.Linear(n_feat, n_hidden_1)\n",
    "        self.fc2 = nn.Linear(n_hidden_1, n_hidden_2)\n",
    "        self.fc3 = nn.Linear(n_hidden_2, n_class)\n",
    "        self.dropout = nn.Dropout(dropout)\n",
    "        self.relu = nn.ReLU()\n",
    "\n",
    "    def forward(self, x_in, adj):\n",
    "        ############## Tasks 10 and 13\n",
    "        \n",
    "        ##################\n",
    "        # your code here #\n",
    "        ##################\n",
    "\n",
    "\n",
    "        return F.log_softmax(x, dim=1)\n"
   ]
  }
 ],
 "metadata": {
  "kernelspec": {
   "display_name": "Python 3",
   "language": "python",
   "name": "python3"
  },
  "language_info": {
   "name": "python",
   "version": "3.11.3"
  }
 },
 "nbformat": 4,
 "nbformat_minor": 2
}
